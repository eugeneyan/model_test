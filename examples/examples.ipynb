{
  "nbformat": 4,
  "nbformat_minor": 0,
  "metadata": {
    "colab": {
      "name": "Untitled",
      "provenance": []
    },
    "kernelspec": {
      "name": "python3",
      "display_name": "Python 3"
    }
  },
  "cells": [
    {
      "cell_type": "code",
      "metadata": {
        "id": "DXGqzBfauQWq"
      },
      "source": [
        "!git clone https://github.com/jeremyjordan/model_test.git"
      ],
      "execution_count": null,
      "outputs": []
    },
    {
      "cell_type": "code",
      "metadata": {
        "id": "sjdNIaYit-HC"
      },
      "source": [
        "%pip install model_test/\n",
        "%pip install -r model_test/examples/sentiment_analysis/requirements.txt\n",
        "%pip install -r model_test/examples/image_classifier/requirements.txt"
      ],
      "execution_count": null,
      "outputs": []
    },
    {
      "cell_type": "markdown",
      "metadata": {
        "id": "GjHmmbMDuGpI"
      },
      "source": [
        "**Sentiment analysis example**"
      ]
    },
    {
      "cell_type": "code",
      "metadata": {
        "id": "qMVUFK4bMvKR"
      },
      "source": [
        "!model_test generate \"model_test/examples/sentiment_analysis/\""
      ],
      "execution_count": null,
      "outputs": []
    },
    {
      "cell_type": "code",
      "metadata": {
        "id": "X_eHFjFdRVep"
      },
      "source": [
        "!model_test run \"model_test/examples/sentiment_analysis/\""
      ],
      "execution_count": null,
      "outputs": []
    },
    {
      "cell_type": "markdown",
      "metadata": {
        "id": "F0VAwa9JWVAA"
      },
      "source": [
        "**Image classifier example**"
      ]
    },
    {
      "cell_type": "code",
      "metadata": {
        "id": "5maojAeJWaJN"
      },
      "source": [
        "!model_test generate \"model_test/examples/image_classifier/\""
      ],
      "execution_count": null,
      "outputs": []
    },
    {
      "cell_type": "code",
      "metadata": {
        "id": "o0WnVQgrWpRc"
      },
      "source": [
        "!model_test run \"model_test/examples/image_classifier/\""
      ],
      "execution_count": null,
      "outputs": []
    }
  ]
}